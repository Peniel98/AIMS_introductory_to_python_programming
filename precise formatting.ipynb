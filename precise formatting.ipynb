{
 "cells": [
  {
   "cell_type": "code",
   "execution_count": 1,
   "metadata": {},
   "outputs": [
    {
     "data": {
      "text/plain": [
       "True"
      ]
     },
     "execution_count": 1,
     "metadata": {},
     "output_type": "execute_result"
    }
   ],
   "source": [
    "(2>4) or (4<10)"
   ]
  },
  {
   "cell_type": "code",
   "execution_count": 2,
   "metadata": {},
   "outputs": [
    {
     "data": {
      "text/plain": [
       "True"
      ]
     },
     "execution_count": 2,
     "metadata": {},
     "output_type": "execute_result"
    }
   ],
   "source": [
    "not(2>4) and (4<10)"
   ]
  },
  {
   "cell_type": "code",
   "execution_count": 3,
   "metadata": {},
   "outputs": [
    {
     "name": "stdout",
     "output_type": "stream",
     "text": [
      "Enter a number: -5\n",
      "The absolute value of -5 is 5\n"
     ]
    }
   ],
   "source": [
    "n = int(input(\"Enter a number: \"))\n",
    "if n<0:\n",
    "    print(\"The absolute value of {} is {}\".format(n,-n))"
   ]
  },
  {
   "cell_type": "code",
   "execution_count": 4,
   "metadata": {},
   "outputs": [
    {
     "ename": "IndentationError",
     "evalue": "expected an indented block (<ipython-input-4-4f6347ec3371>, line 3)",
     "output_type": "error",
     "traceback": [
      "\u001b[0;36m  File \u001b[0;32m\"<ipython-input-4-4f6347ec3371>\"\u001b[0;36m, line \u001b[0;32m3\u001b[0m\n\u001b[0;31m    print(\"The absolute value of {} is {}\".format(n,-n))\u001b[0m\n\u001b[0m    ^\u001b[0m\n\u001b[0;31mIndentationError\u001b[0m\u001b[0;31m:\u001b[0m expected an indented block\n"
     ]
    }
   ],
   "source": [
    "n = int(input(\"Enter a number: \"))\n",
    "if n<0:\n",
    "print(\"The absolute value of {} is {}\".format(n,-n)) "
   ]
  },
  {
   "cell_type": "code",
   "execution_count": null,
   "metadata": {},
   "outputs": [],
   "source": [
    "n=int(input(\"Enter a number: \"))\n",
    "if n<0:\n",
    "    print(\"The absolute value of {} is {}\".format(n,-n))\n",
    "print(\"Your input was {}\".format(n))"
   ]
  },
  {
   "cell_type": "code",
   "execution_count": 11,
   "metadata": {},
   "outputs": [
    {
     "name": "stdout",
     "output_type": "stream",
     "text": [
      "Enter a number: \t16\n",
      "The number n is even and its division by 2 results in 8.0\n"
     ]
    }
   ],
   "source": [
    "n=int(input(\"Enter a number: \\t\"))\n",
    "if n%2==0:\n",
    "    print(\"The number n is even and its division by 2 results in {}\".format(n/2))\n",
    "else:\n",
    "    print(\"The number n is odd and its division by 2 results in 1\")"
   ]
  },
  {
   "cell_type": "code",
   "execution_count": 15,
   "metadata": {},
   "outputs": [
    {
     "name": "stdout",
     "output_type": "stream",
     "text": [
      "Enter a number: \t4\n",
      "The number 4.0 is in [2,5]\n"
     ]
    }
   ],
   "source": [
    "n=float(input(\"Enter a number: \\t\"))\n",
    "if n>=2 and n<=5 :\n",
    "    print(\"The number {} is in [2,5]\".format(n))\n",
    "else:\n",
    "    print(\"The number {} is not in [2,5]\".format(n))"
   ]
  },
  {
   "cell_type": "code",
   "execution_count": null,
   "metadata": {},
   "outputs": [],
   "source": [
    " n=float(input(\"Enter a number: \\t\"))\n",
    "if n>=2:\n",
    "    if n<=5:\n",
    "        print(\"The number {} is in [2,5]\".format(n))\n",
    "if n<2:\n",
    "    if n>5:\n",
    "    print(\"The number {} is not in [2,5]\".format(n))"
   ]
  },
  {
   "cell_type": "code",
   "execution_count": null,
   "metadata": {},
   "outputs": [],
   "source": [
    "n=float(input(\"Enter a number: \\t\"))\n",
    "if n>=2:\n",
    "    if n<=5:\n",
    "        print(\"The number {} is in [2,5]\".format(n))\n",
    "if n<2:\n",
    "    if \n",
    "    print(\"The number {} is not in [2,5]\".format(n))"
   ]
  },
  {
   "cell_type": "code",
   "execution_count": null,
   "metadata": {},
   "outputs": [],
   "source": [
    "n=int(input(\"Enter your age:\\t\"))\n",
    "if 0<= n <=8:\n",
    "    print(\"Your re a child\")\n",
    "elif 9<=n<=13:\n",
    "    print(\"You area teenager\")\n",
    "elif 14<=n<=60:\n",
    "    print(\"You are an adult\")\n",
    "else:\n",
    "    print(\"You are old\")\n",
    "print(\"Goodbye\")"
   ]
  },
  {
   "cell_type": "code",
   "execution_count": null,
   "metadata": {},
   "outputs": [],
   "source": [
    "complex(5,2)"
   ]
  },
  {
   "cell_type": "markdown",
   "metadata": {},
   "source": [
    "Code for solving quadratic equations like $a^2+bx+c=0$"
   ]
  },
  {
   "cell_type": "code",
   "execution_count": null,
   "metadata": {},
   "outputs": [],
   "source": [
    "a=int(input(\"Enter the value of a: \\t\"))\n",
    "b=int(input(\"Enter the value of b: \\t\"))\n",
    "c=int(input(\"Enter the value of c \\t\"))\n",
    "Delta=b*b-4*a*c\n",
    "if Delta==0:\n",
    "    print(\"Your equation has a unique solution: x={}\".format((-b-sqrt(Delta))/2*a))\n",
    "elif Delta<0:\n",
    "    print(\"Your equation has two complex solutions: x1={} and x2={}\".format(complex(-b/2*a,-sqrt(Delta)/2*a,complex(-b/2*a,sqrt(Delta)/2*a)))\n",
    "elif Delta>0:\n",
    "    print(\"Your equation has two real solutions: x1={} and x2={}\".format((-b-sqrt(Delta))/2*a,(-b+sqrt(Delta))/2*a)    "
   ]
  }
 ],
 "metadata": {
  "kernelspec": {
   "display_name": "Python 3",
   "language": "python",
   "name": "python3"
  },
  "language_info": {
   "codemirror_mode": {
    "name": "ipython",
    "version": 3
   },
   "file_extension": ".py",
   "mimetype": "text/x-python",
   "name": "python",
   "nbconvert_exporter": "python",
   "pygments_lexer": "ipython3",
   "version": "3.8.5"
  },
  "latex_envs": {
   "LaTeX_envs_menu_present": true,
   "autoclose": false,
   "autocomplete": false,
   "bibliofile": "biblio.bib",
   "cite_by": "apalike",
   "current_citInitial": 1,
   "eqLabelWithNumbers": true,
   "eqNumInitial": 1,
   "hotkeys": {
    "equation": "Ctrl-E",
    "itemize": "Ctrl-I"
   },
   "labels_anchors": false,
   "latex_user_defs": false,
   "report_style_numbering": true,
   "user_envs_cfg": true
  }
 },
 "nbformat": 4,
 "nbformat_minor": 4
}
