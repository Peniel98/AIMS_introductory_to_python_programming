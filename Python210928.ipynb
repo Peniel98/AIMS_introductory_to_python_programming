{
 "cells": [
  {
   "cell_type": "code",
   "execution_count": 6,
   "metadata": {},
   "outputs": [],
   "source": [
    "from math import sqrt"
   ]
  },
  {
   "cell_type": "code",
   "execution_count": null,
   "metadata": {},
   "outputs": [],
   "source": [
    "a=int(input(\"Enter the coef a:\\t\"))\n",
    "b=int(input(\"Enter the coef b:\\t\"))\n",
    "c=int(input(\"Enter the coef c:\\t\"))\n",
    "if a==0 and b==0 and c==0:\n",
    "    print(\"Every real number is solution \")\n",
    "elif a==0  and b==0 and c!=0:\n",
    "    print(\"There is no solution\")  \n",
    "elif a==0 and b!=0:\n",
    "    print(\"There is one solution x={}\".format(-c/b))\n",
    "elif a!=0:\n",
    "    d=b**2-4*a*c\n",
    "    e1=b/(2*a)\n",
    "    if d>=0:\n",
    "        f1=sqrt(d)/(2*a)\n",
    "        print(\"The solution  are x={} and x={}\".format(e1+f1,e1-f1))\n",
    "    else:\n",
    "        f2=sqrt(-d)/(2*a)\n",
    "        print(\"The solution are x={} and x={}\".format(complex(e1,f2),complex(e1,-f2)))"
   ]
  },
  {
   "cell_type": "markdown",
   "metadata": {},
   "source": [
    "## Calculating the factorial \n",
    "$n!=n"
   ]
  },
  {
   "cell_type": "code",
   "execution_count": 2,
   "metadata": {},
   "outputs": [
    {
     "name": "stdout",
     "output_type": "stream",
     "text": [
      "24\n"
     ]
    }
   ],
   "source": [
    "n=4\n",
    "p=1\n",
    "for i in range (1,n+1):\n",
    "    p*=i\n",
    "print(p)"
   ]
  },
  {
   "cell_type": "code",
   "execution_count": 1,
   "metadata": {},
   "outputs": [
    {
     "name": "stdout",
     "output_type": "stream",
     "text": [
      "3628800\n"
     ]
    }
   ],
   "source": [
    "k=1\n",
    "p=1\n",
    "n=10\n",
    "while k<=n:\n",
    "    p*=k\n",
    "    k+=1\n",
    "print(p)"
   ]
  }
 ],
 "metadata": {
  "kernelspec": {
   "display_name": "Python 3",
   "language": "python",
   "name": "python3"
  },
  "language_info": {
   "codemirror_mode": {
    "name": "ipython",
    "version": 3
   },
   "file_extension": ".py",
   "mimetype": "text/x-python",
   "name": "python",
   "nbconvert_exporter": "python",
   "pygments_lexer": "ipython3",
   "version": "3.8.5"
  },
  "latex_envs": {
   "LaTeX_envs_menu_present": true,
   "autoclose": false,
   "autocomplete": false,
   "bibliofile": "biblio.bib",
   "cite_by": "apalike",
   "current_citInitial": 1,
   "eqLabelWithNumbers": true,
   "eqNumInitial": 1,
   "hotkeys": {
    "equation": "Ctrl-E",
    "itemize": "Ctrl-I"
   },
   "labels_anchors": false,
   "latex_user_defs": false,
   "report_style_numbering": true,
   "user_envs_cfg": true
  },
  "toc": {
   "base_numbering": 1,
   "nav_menu": {},
   "number_sections": true,
   "sideBar": true,
   "skip_h1_title": false,
   "title_cell": "Table of Contents",
   "title_sidebar": "Contents",
   "toc_cell": false,
   "toc_position": {},
   "toc_section_display": true,
   "toc_window_display": false
  }
 },
 "nbformat": 4,
 "nbformat_minor": 4
}
